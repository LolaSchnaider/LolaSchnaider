{
  "cells": [
    {
      "cell_type": "markdown",
      "metadata": {
        "id": "view-in-github",
        "colab_type": "text"
      },
      "source": [
        "<a href=\"https://colab.research.google.com/github/LolaSchnaider/LolaSchnaider/blob/main/DS4E_Mid_Term.ipynb\" target=\"_parent\"><img src=\"https://colab.research.google.com/assets/colab-badge.svg\" alt=\"Open In Colab\"/></a>"
      ]
    },
    {
      "cell_type": "markdown",
      "metadata": {
        "id": "bP1Hjtn0OPx-"
      },
      "source": [
        "\n",
        "\n",
        "<center><img src=\"data:image/png;base64,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\" width=150 height=200/></center>\n",
        "\n",
        "___\n",
        "\n",
        "## <center>Data Science 4 Everyone 🚀</center>\n",
        "\n",
        "<center><img src=\"data:image/jpeg;base64,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\" width=75 height=75/></center>\n",
        "\n",
        "### <center>Session: Streamlit Data + Visualization + Model </center>\n",
        "\n",
        "<center>Course provided by:</center>\n",
        "\n",
        "[<center>Professor Gaëtan Brison</center>](https://github.com/gaetanbrison)\n",
        "___"
      ]
    },
    {
      "cell_type": "code",
      "execution_count": null,
      "metadata": {
        "colab": {
          "base_uri": "https://localhost:8080/"
        },
        "id": "1edlKeU9OKXp",
        "outputId": "b1a316ea-77ba-45da-bf5f-3dd4a8ab6347"
      },
      "outputs": [
        {
          "output_type": "stream",
          "name": "stdout",
          "text": [
            "34.83.166.109"
          ]
        }
      ],
      "source": [
        "!curl ipecho.net/plain"
      ]
    },
    {
      "cell_type": "code",
      "execution_count": null,
      "metadata": {
        "id": "TC70vdi6OxTx",
        "colab": {
          "base_uri": "https://localhost:8080/"
        },
        "outputId": "8bdc3cb8-1602-4da7-f7cb-2010563322bb"
      },
      "outputs": [
        {
          "output_type": "stream",
          "name": "stdout",
          "text": [
            "\u001b[2K     \u001b[90m━━━━━━━━━━━━━━━━━━━━━━━━━━━━━━━━━━━━━━━━\u001b[0m \u001b[32m7.6/7.6 MB\u001b[0m \u001b[31m21.8 MB/s\u001b[0m eta \u001b[36m0:00:00\u001b[0m\n",
            "\u001b[2K     \u001b[90m━━━━━━━━━━━━━━━━━━━━━━━━━━━━━━━━━━━━━━━━\u001b[0m \u001b[32m190.6/190.6 kB\u001b[0m \u001b[31m14.3 MB/s\u001b[0m eta \u001b[36m0:00:00\u001b[0m\n",
            "\u001b[2K     \u001b[90m━━━━━━━━━━━━━━━━━━━━━━━━━━━━━━━━━━━━━━━━\u001b[0m \u001b[32m4.8/4.8 MB\u001b[0m \u001b[31m48.4 MB/s\u001b[0m eta \u001b[36m0:00:00\u001b[0m\n",
            "\u001b[2K     \u001b[90m━━━━━━━━━━━━━━━━━━━━━━━━━━━━━━━━━━━━━━━━\u001b[0m \u001b[32m82.1/82.1 kB\u001b[0m \u001b[31m8.7 MB/s\u001b[0m eta \u001b[36m0:00:00\u001b[0m\n",
            "\u001b[2K     \u001b[90m━━━━━━━━━━━━━━━━━━━━━━━━━━━━━━━━━━━━━━━━\u001b[0m \u001b[32m62.7/62.7 kB\u001b[0m \u001b[31m6.5 MB/s\u001b[0m eta \u001b[36m0:00:00\u001b[0m\n",
            "\u001b[2K     \u001b[90m━━━━━━━━━━━━━━━━━━━━━━━━━━━━━━━━━━━━━━━━\u001b[0m \u001b[32m718.7/718.7 kB\u001b[0m \u001b[31m5.6 MB/s\u001b[0m eta \u001b[36m0:00:00\u001b[0m\n",
            "\u001b[?25h  Preparing metadata (setup.py) ... \u001b[?25l\u001b[?25hdone\n",
            "  Building wheel for pyngrok (setup.py) ... \u001b[?25l\u001b[?25hdone\n"
          ]
        }
      ],
      "source": [
        "!pip install streamlit --quiet\n",
        "!pip install pyngrok --quiet\n",
        "!pip install htbuilder --quiet\n"
      ]
    },
    {
      "cell_type": "code",
      "execution_count": null,
      "metadata": {
        "colab": {
          "base_uri": "https://localhost:8080/"
        },
        "id": "JznlKBbIOxWK",
        "outputId": "e462b5d1-8a64-4822-a0af-5c05b807d3ce"
      },
      "outputs": [
        {
          "output_type": "stream",
          "name": "stdout",
          "text": [
            "Writing app.py\n"
          ]
        }
      ],
      "source": [
        "# @title Default title text\n",
        "# This is breaking the code\n",
        "# Load the Youtube logo image >>>>>>>>>>>>\n",
        "# image_youtube = Image.open('youtube.png')\n",
        "# Display the Youtube logo on the Streamlit app\n",
        "# st.image(image_youtube, width=100)\n",
        "\n",
        "%%writefile app.py\n",
        "\n",
        "import streamlit as st\n",
        "import pandas as pd\n",
        "import numpy as np\n",
        "import matplotlib.pyplot as plt\n",
        "import seaborn as sns\n",
        "from sklearn.linear_model import LinearRegression\n",
        "from sklearn.model_selection import train_test_split\n",
        "from sklearn import metrics as mt\n",
        "import plotly.express as px\n",
        "import streamlit as st\n",
        "import random\n",
        "from PIL import Image\n",
        "import altair as alt\n",
        "\n",
        "\n",
        "\n",
        "# Set the title for the Streamlit app >>>>>>>>>>>>\n",
        "st.title(\"YOUTUBE TREND PREDICTOR\")\n",
        "\n",
        "# Create a sidebar header and a separator\n",
        "st.sidebar.header(\"Dashboard\")\n",
        "st.sidebar.markdown(\"---\")\n",
        "\n",
        "# Dropdown menu for selecting the page mode (Introduction, Visualization, Prediction)\n",
        "app_mode = st.sidebar.selectbox('🔎 Select Page',['Introduction','Visualization','Prediction'])\n",
        "\n",
        "# Dropdown menu for selecting the dataset (currently only \"Wine Quality\" is available)\n",
        "select_dataset =  st.sidebar.selectbox('💾 Select Dataset',[\"Youtube Data\"])\n",
        "\n",
        "# Load the wine quality dataset >>>>>>>>>>>>\n",
        "df = pd.read_csv(\"usvideosedited.csv\")\n",
        "dfnew = df[[\"views\", \"trending_date\", \"dislikes\", \"comment_count\", \"comments_disabled\", \"ratings_disabled\", \"video_error_or_removed\"]]\n",
        "dfnew[\"comments_disabled\"] = dfnew[\"comments_disabled\"].astype(\"category\").cat.codes\n",
        "dfnew[\"ratings_disabled\"] = dfnew[\"ratings_disabled\"].astype(\"category\").cat.codes\n",
        "dfnew[\"video_error_or_removed\"] = dfnew[\"video_error_or_removed\"].astype(\"category\").cat.codes\n",
        "\n",
        "# Dropdown menu for selecting which variable from the dataset to predict\n",
        "list_variable = [\"views\"]\n",
        "list_variables = df.columns\n",
        "select_variable =  st.sidebar.selectbox('🎯 Select Variable to Predict',list_variable)\n",
        "\n",
        "# Introduction page content\n",
        "if app_mode == 'Introduction':\n",
        "    # Display dataset details\n",
        "    st.markdown(\"### 00 - Show Dataset\")\n",
        "\n",
        "    # Split the page into 10 columns to display information about each wine quality variable\n",
        "    col1, col2, col3, col4, col5, col6, col7, col8, col9, col10 = st.columns(10)\n",
        "\n",
        "    # Descriptions for each variable in the dataset\n",
        "    # ... [The code here provides descriptions for each wine quality variable]\n",
        "\n",
        "    # Allow users to view either the top or bottom rows of the dataset\n",
        "    num = st.number_input('No. of Rows', 5, 10)\n",
        "    head = st.radio('View from top (head) or bottom (tail)', ('Head', 'Tail'))\n",
        "    if head == 'Head':\n",
        "        st.dataframe(df.head(num))\n",
        "    else:\n",
        "        st.dataframe(df.tail(num))\n",
        "\n",
        "    # Display the shape (number of rows and columns) of the dataset\n",
        "    st.markdown(\"Number of rows and columns helps us to determine how large the dataset is.\")\n",
        "    st.text('(Rows,Columns)')\n",
        "    st.write(df.shape)\n",
        "\n",
        "    st.markdown(\"### 01 - Description\")\n",
        "    st.dataframe(df.describe())\n",
        "\n",
        "\n",
        "\n",
        "    st.markdown(\"### 02 - Missing Values\")\n",
        "    st.markdown(\"Missing values are known as null or NaN values. Missing data tends to **introduce bias that leads to misleading results.**\")\n",
        "    dfnull = df.isnull().sum()/len(df)*100\n",
        "    totalmiss = dfnull.sum().round(2)\n",
        "    st.write(\"Percentage of total missing values:\",totalmiss)\n",
        "    st.write(dfnull)\n",
        "    if totalmiss <= 30:\n",
        "        st.success(\"Looks good! as we have less then 30 percent of missing values.\")\n",
        "    else:\n",
        "        st.warning(\"Poor data quality due to greater than 30 percent of missing value.\")\n",
        "        st.markdown(\" > Theoretically, 25 to 30 percent is the maximum missing values are allowed, there's no hard and fast rule to decide this threshold. It can vary from problem to problem.\")\n",
        "\n",
        "    st.markdown(\"### 03 - Completeness\")\n",
        "    st.markdown(\" Completeness is defined as the ratio of non-missing values to total records in dataset.\")\n",
        "    # st.write(\"Total data length:\", len(df))\n",
        "    nonmissing = (df.notnull().sum().round(2))\n",
        "    completeness= round(sum(nonmissing)/len(df),2)\n",
        "    st.write(\"Completeness ratio:\",completeness)\n",
        "    st.write(nonmissing)\n",
        "    if completeness >= 0.80:\n",
        "        st.success(\"Looks good! as we have completeness ratio greater than 0.85.\")\n",
        "\n",
        "    else:\n",
        "        st.success(\"Poor data quality due to low completeness ratio( less than 0.85).\")\n",
        "\n",
        "\n",
        "if app_mode == 'Visualization':\n",
        "    # Display a header for the Visualization section\n",
        "    st.markdown(\"## Visualization\")\n",
        "\n",
        "    # Allow users to select two variables from the dataset for visualization\n",
        "    symbols = st.multiselect(\"Select two variables\", list_variables, [\"views\", \"likes\"])\n",
        "\n",
        "    # Create a slider in the sidebar for users to adjust the plot width\n",
        "    width1 = st.sidebar.slider(\"plot width\", 1, 25, 10)\n",
        "\n",
        "    # Create tabs for different types of visualizations\n",
        "    tab1, tab2 = st.tabs([\"Line Chart\", \"📈 Correlation\"])\n",
        "\n",
        "    # Content for the \"Line Chart\" tab\n",
        "    tab1.subheader(\"Line Chart\")\n",
        "    # Display a line chart for the selected variables\n",
        "    st.line_chart(data=df, x=symbols[0], y=symbols[1], width=0, height=0, use_container_width=True)\n",
        "    # Display a bar chart for the selected variables\n",
        "    st.bar_chart(data=df, x=symbols[0], y=symbols[1], use_container_width=True)\n",
        "\n",
        "    # Content for the \"Correlation\" tab\n",
        "    tab2.subheader(\"Correlation Tab 📉\")\n",
        "    # Create a heatmap to show correlations between variables in the dataset\n",
        "    fig, ax = plt.subplots(figsize=(width1, width1))\n",
        "    sns.heatmap(df.corr(), cmap=sns.cubehelix_palette(8), annot=True, ax=ax)\n",
        "    tab2.write(fig)\n",
        "\n",
        "    # Display a pairplot for the first five variables in the dataset\n",
        "    st.markdown(\"### Pairplot\")\n",
        "    df2 = df\n",
        "    fig3 = sns.pairplot(df2)\n",
        "    st.pyplot(fig3)\n",
        "\n",
        "# Check if the app mode is set to 'Prediction'\n",
        "if app_mode == 'Prediction':\n",
        "    # Display a header for the Prediction section\n",
        "    st.markdown(\"## Prediction\")\n",
        "\n",
        "    # Allow users to adjust the size of the training dataset using a slider in the sidebar\n",
        "    train_size = st.sidebar.number_input(\"Train Set Size\", min_value=0.00, step=0.01, max_value=1.00, value=0.70)\n",
        "\n",
        "    # Drop the selected variable from the dataset to prepare for prediction\n",
        "    new_df = df.drop(labels=select_variable, axis=1)\n",
        "    list_var = new_df.columns\n",
        "\n",
        "    # Allow users to select explanatory variables for prediction\n",
        "    output_multi = st.multiselect(\"Select Explanatory Variables\", list_var)\n",
        "\n",
        "    # Define a function to perform linear regression prediction\n",
        "    def predict(target_choice, train_size, new_df, output_multi):\n",
        "      \"\"\"\n",
        "      This function performs linear regression prediction.\n",
        "\n",
        "      Parameters:\n",
        "      - target_choice: The target variable to be predicted.\n",
        "      - train_size: The proportion of the dataset to include in the training set.\n",
        "      - new_df: The dataframe without the target variable.\n",
        "      - output_multi: The explanatory variables selected by the user.\n",
        "\n",
        "      Returns:\n",
        "      - X_train, X_test: Training and testing data.\n",
        "      - y_train, y_test: Training and testing target values.\n",
        "      - predictions: Predicted values for the test set.\n",
        "      - x, y: Full dataset split into explanatory variables and target variable.\n",
        "      \"\"\"\n",
        "\n",
        "      # Select the explanatory variables based on user input\n",
        "      new_df2 = new_df[output_multi]\n",
        "      x = new_df2\n",
        "      y = df[target_choice]\n",
        "\n",
        "      # Display the top 25 rows of the explanatory and target variables in the Streamlit app\n",
        "      col1, col2 = st.columns(2)\n",
        "      col1.subheader(\"Feature Columns top 25\")\n",
        "      col1.write(x.head(25))\n",
        "      col2.subheader(\"Target Column top 25\")\n",
        "      col2.write(y.head(25))\n",
        "\n",
        "      # Split the data into training and testing sets\n",
        "      X_train, X_test, y_train, y_test = train_test_split(x,y,test_size=0.2,random_state=42)\n",
        "\n",
        "    # Initialize and train a linear regression model\n",
        "      lm = LinearRegression()\n",
        "      lm.fit(X_train,y_train)\n",
        "\n",
        "    # Predict the target variable for the test set\n",
        "      predictions = lm.predict(X_test)\n",
        "\n",
        "      return X_train, X_test, y_train, y_test, predictions, x, y\n",
        "\n",
        "    # Call the prediction function and store the results\n",
        "    X_train, X_test, y_train, y_test, predictions, x, y = predict(select_variable, train_size, new_df, list_var)\n",
        "    # Display the results header in the Streamlit app\n",
        "    st.subheader('🎯 Results')\n",
        "\n",
        "    # Display various metrics about the prediction results in the Streamlit app >>>>>>>>>>>>\n",
        "    st.write(\"1) The model explains,\", np.round(mt.explained_variance_score(y_test, predictions)*100,2),\"% variance of the target feature\")\n",
        "    st.write(\"2) The Mean Absolute Error of model is:\", np.round(mt.mean_absolute_error(predictions,y_test),2))\n",
        "    st.write(\"3) MSE: \", np.round(mt.mean_squared_error(predictions,y_test),2))\n",
        "    st.write(\"4) The R-Square score of the model is \" , np.round(mt.r2_score(predictions,y_test),2))\n",
        "\n",
        "\n",
        "\n",
        "\n"
      ]
    },
    {
      "cell_type": "code",
      "execution_count": null,
      "metadata": {
        "id": "RCYKvXumG282"
      },
      "outputs": [],
      "source": []
    },
    {
      "cell_type": "code",
      "execution_count": null,
      "metadata": {
        "colab": {
          "background_save": true,
          "base_uri": "https://localhost:8080/"
        },
        "id": "YkmaEF_TOxco",
        "outputId": "4b91874f-7467-4f3c-845e-cf250057d76f"
      },
      "outputs": [
        {
          "metadata": {
            "tags": null
          },
          "name": "stdout",
          "output_type": "stream",
          "text": [
            "[..................] \\ fetchMetadata: sill resolveWithNewModule yargs@17.1.1 ch\u001b[0m\u001b[K\n",
            "Collecting usage statistics. To deactivate, set browser.gatherUsageStats to False.\n",
            "\u001b[0m\n",
            "\u001b[0m\n",
            "\u001b[34m\u001b[1m  You can now view your Streamlit app in your browser.\u001b[0m\n",
            "\u001b[0m\n",
            "\u001b[34m  Network URL: \u001b[0m\u001b[1mhttp://172.28.0.12:8501\u001b[0m\n",
            "\u001b[34m  External URL: \u001b[0m\u001b[1mhttp://35.221.41.208:8501\u001b[0m\n",
            "\u001b[0m\n",
            "\u001b[K\u001b[?25hnpx: installed 22 in 2.443s\n"
          ]
        }
      ],
      "source": [
        "!streamlit run app.py & npx localtunnel --port 8501"
      ]
    },
    {
      "cell_type": "code",
      "execution_count": null,
      "metadata": {
        "id": "ojScSDe1O5q3"
      },
      "outputs": [],
      "source": [
        "!pip freeze > requirements.txt"
      ]
    }
  ],
  "metadata": {
    "colab": {
      "provenance": [],
      "include_colab_link": true
    },
    "kernelspec": {
      "display_name": "Python 3",
      "name": "python3"
    },
    "language_info": {
      "name": "python"
    }
  },
  "nbformat": 4,
  "nbformat_minor": 0
}